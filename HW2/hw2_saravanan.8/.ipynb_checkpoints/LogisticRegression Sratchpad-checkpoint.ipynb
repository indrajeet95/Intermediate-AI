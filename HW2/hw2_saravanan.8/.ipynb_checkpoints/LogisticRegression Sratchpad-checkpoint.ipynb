{
 "cells": [
  {
   "cell_type": "code",
   "execution_count": 4,
   "metadata": {},
   "outputs": [],
   "source": [
    "import numpy as np\n",
    "import math"
   ]
  },
  {
   "cell_type": "code",
   "execution_count": 6,
   "metadata": {},
   "outputs": [],
   "source": [
    "def sigmodfun(x,q):\n",
    "    if len(x) != len(q):\n",
    "        return 'Error: Vectors of different length.'\n",
    "    e_term = math.exp(np.sum(x*q))\n",
    "    return (e_term * 1.0)/(1 + e_term)\n",
    "\n",
    "def hypothesis(x,q,threshold):\n",
    "    h = sigmodfun(x,q)\n",
    "    if h > threshold:\n",
    "        return 1\n",
    "    else:\n",
    "        return 0\n",
    "    \n",
    "def cost_function():\n",
    "    "
   ]
  },
  {
   "cell_type": "code",
   "execution_count": null,
   "metadata": {},
   "outputs": [],
   "source": []
  },
  {
   "cell_type": "code",
   "execution_count": 13,
   "metadata": {},
   "outputs": [],
   "source": [
    "z = np.array([[1, 2], [-1, -2]])"
   ]
  },
  {
   "cell_type": "code",
   "execution_count": 22,
   "metadata": {},
   "outputs": [
    {
     "data": {
      "text/plain": [
       "array([[0.73105858, 0.88079708],\n",
       "       [0.26894142, 0.11920292]])"
      ]
     },
     "execution_count": 22,
     "metadata": {},
     "output_type": "execute_result"
    }
   ],
   "source": [
    "def sigmoid(z):\n",
    "    \"\"\" Sigmoid function \"\"\"\n",
    "    ###################################################################\n",
    "    # Compute the sigmoid function for the input here.                #\n",
    "    ###################################################################\n",
    "    \n",
    "    ### YOUR CODE HERE: be careful of the potential underflow or overflow here\n",
    "    \n",
    "    \n",
    "    eter = np.exp(z) \n",
    "    s = (eter * 1.0) / (1 + eter)\n",
    "    \n",
    "    \n",
    "    ### END YOUR CODE\n",
    "    \n",
    "    return s\n",
    "sigmoid(z)"
   ]
  },
  {
   "cell_type": "code",
   "execution_count": 28,
   "metadata": {},
   "outputs": [
    {
     "data": {
      "text/plain": [
       "array([[0.73105858, 0.88079708],\n",
       "       [0.26894142, 0.11920292]])"
      ]
     },
     "execution_count": 28,
     "metadata": {},
     "output_type": "execute_result"
    }
   ],
   "source": [
    "np.exp(-np.logaddexp(0,-z))"
   ]
  },
  {
   "cell_type": "code",
   "execution_count": 24,
   "metadata": {},
   "outputs": [
    {
     "data": {
      "text/plain": [
       "array([[-1, -2],\n",
       "       [ 1,  2]])"
      ]
     },
     "execution_count": 24,
     "metadata": {},
     "output_type": "execute_result"
    }
   ],
   "source": []
  },
  {
   "cell_type": "code",
   "execution_count": 32,
   "metadata": {},
   "outputs": [
    {
     "name": "stdout",
     "output_type": "stream",
     "text": [
      "[9.99954602e-01 4.53978687e-05]\n",
      "10.000045398899701\n",
      "[4.53978687e-05 9.99954602e-01]\n",
      "4.539889921682063e-05\n"
     ]
    }
   ],
   "source": [
    "def cost_function(theta, X, y):\n",
    "    \"\"\" \n",
    "    The cost function for logistic regression.\n",
    "    Compute the cost given the current parameter theta on the training data set (X, y).\n",
    "    \"\"\"\n",
    "    \n",
    "    hThetaX = sigmoid(X.dot(theta))\n",
    "    print(hThetaX)\n",
    "    cost = (-1 / X.shape[0]) * np.sum((y * np.log(hThetaX)) + ((1 - y) * np.log(1 - hThetaX)))\n",
    "        \n",
    "    return cost\n",
    "\n",
    "# Test for cost function implementation.\n",
    "t_X = np.array([[1, 2], [-1, -2]])\n",
    "t_y = np.array([0, 1])\n",
    "t_theta1 = np.array([-10, 10])\n",
    "t_theta2 = np.array([10, -10])\n",
    "t_c1 = cost_function(t_theta1, t_X, t_y)\n",
    "print (t_c1)\n",
    "t_c2 = cost_function(t_theta2, t_X, t_y)\n",
    "print (t_c2)"
   ]
  },
  {
   "cell_type": "code",
   "execution_count": 34,
   "metadata": {},
   "outputs": [
    {
     "data": {
      "text/plain": [
       "2.302585092994046"
      ]
     },
     "execution_count": 34,
     "metadata": {},
     "output_type": "execute_result"
    }
   ],
   "source": [
    "np.log(10)"
   ]
  },
  {
   "cell_type": "code",
   "execution_count": null,
   "metadata": {},
   "outputs": [],
   "source": []
  }
 ],
 "metadata": {
  "kernelspec": {
   "display_name": "Python 3",
   "language": "python",
   "name": "python3"
  },
  "language_info": {
   "codemirror_mode": {
    "name": "ipython",
    "version": 3
   },
   "file_extension": ".py",
   "mimetype": "text/x-python",
   "name": "python",
   "nbconvert_exporter": "python",
   "pygments_lexer": "ipython3",
   "version": "3.6.4"
  }
 },
 "nbformat": 4,
 "nbformat_minor": 2
}
